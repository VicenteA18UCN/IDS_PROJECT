{
 "cells": [
  {
   "cell_type": "markdown",
   "metadata": {},
   "source": [
    "Importa las librerias necesarias para el proyecto"
   ]
  },
  {
   "cell_type": "code",
   "execution_count": 24,
   "metadata": {},
   "outputs": [],
   "source": [
    "import pandas as pd\n",
    "from numpy import array\n",
    "import seaborn as sns\n",
    "import matplotlib.pyplot as plt\n",
    "from sklearn.ensemble import RandomForestClassifier\n",
    "from sklearn.preprocessing import LabelEncoder\n",
    "from sklearn.model_selection import train_test_split\n",
    "from sklearn.metrics import f1_score\n",
    "from sklearn.metrics import accuracy_score\n",
    "from sklearn.preprocessing import LabelEncoder\n",
    "from sklearn.metrics import precision_score, recall_score\n"
   ]
  },
  {
   "cell_type": "markdown",
   "metadata": {},
   "source": [
    "Este código realiza los pasos iniciales de carga y preprocesamiento de datos:\n",
    "\n",
    "1. Lee el archivo 'games.csv' en un DataFrame de pandas. Cada fila en el DataFrame representa un juego, y cada columna representa una característica del juego.\n",
    "\n",
    "2. Define una lista de nombres de columnas que queremos excluir de nuestro DataFrame. Estas columnas no son necesarias para nuestro análisis.\n",
    "\n",
    "3. Elimina las columnas listadas en la lista `exclude` del DataFrame. El DataFrame resultante, `games_crop`, contiene solo las columnas en las que estamos interesados para nuestro análisis."
   ]
  },
  {
   "cell_type": "code",
   "execution_count": 25,
   "metadata": {},
   "outputs": [],
   "source": [
    "games_df = pd.read_csv('games.csv')\n",
    "\n",
    "exclude = ['AppID', 'Name', 'Release date', 'About the game', 'Header image', 'Website','Categories', 'Tags','Support url', 'Developers', 'Publishers', 'Support email', 'Metacritic url', 'Notes',  'Genres', 'Screenshots', 'Movies',  'Reviews',   'Supported languages', 'Full audio languages', 'User score',  'Movies',  'Score rank']\n",
    "games_crop = games_df.drop(exclude, axis=1)"
   ]
  },
  {
   "cell_type": "markdown",
   "metadata": {},
   "source": [
    "Se realiza la codificación de etiquetas en la columna 'Estimated owners' del DataFrame `games_crop` y luego elimina esa columna del DataFrame. Aquí está el desglose paso a paso:\n",
    "\n",
    "1. Crea una instancia de la clase `LabelEncoder` del módulo sklearn.preprocessing. LabelEncoder se utiliza para transformar etiquetas no numéricas a etiquetas numéricas.\n",
    "\n",
    "2. Aplica el codificador de etiquetas a la columna 'Estimated owners' del DataFrame `games_crop`. El método `fit_transform` ajusta el codificador de etiquetas y devuelve las etiquetas codificadas.\n",
    "\n",
    "3. Convierte la columna 'Estimated owners' (que ahora está codificada con etiquetas) a una lista y la almacena en la variable `estimated_owners_list`.\n",
    "\n",
    "4. Elimina la columna 'Estimated owners' del DataFrame `games_crop`. El parámetro `inplace=True` significa que la operación se realiza en el lugar en el DataFrame y devolverá None."
   ]
  },
  {
   "cell_type": "code",
   "execution_count": 26,
   "metadata": {},
   "outputs": [],
   "source": [
    "le = LabelEncoder()\n",
    "\n",
    "games_crop['Estimated owners'] = le.fit_transform(games_crop['Estimated owners'])\n",
    "\n",
    "estimated_owners_list = games_crop['Estimated owners'].tolist()\n",
    "\n",
    "games_crop.drop(['Estimated owners'], axis=1, inplace=True)"
   ]
  },
  {
   "cell_type": "markdown",
   "metadata": {},
   "source": [
    "Esta línea de código utiliza la función `train_test_split` del módulo model_selection de sklearn para dividir el conjunto de datos en conjuntos de entrenamiento y prueba."
   ]
  },
  {
   "cell_type": "code",
   "execution_count": 27,
   "metadata": {},
   "outputs": [],
   "source": [
    "\n",
    "X_train, X_test, y_train, y_test = train_test_split(games_crop, estimated_owners_list, test_size=0.2, random_state=42)"
   ]
  },
  {
   "cell_type": "markdown",
   "metadata": {},
   "source": [
    "Crea un modelo con la parametrización óptima y lo ajusta a los datos de entrenamiento. Luego, predice valores a partir de las datos de prueba."
   ]
  },
  {
   "cell_type": "code",
   "execution_count": 31,
   "metadata": {},
   "outputs": [],
   "source": [
    "rf = RandomForestClassifier(n_estimators=100, max_depth=10, criterion='entropy',max_features='sqrt',bootstrap=False)\n",
    "rf.fit(X_train,y_train)\n",
    "y_pred = rf.predict(X_test)"
   ]
  },
  {
   "cell_type": "markdown",
   "metadata": {},
   "source": [
    "Despliega las metricas de rendimiento del modelo."
   ]
  },
  {
   "cell_type": "code",
   "execution_count": 29,
   "metadata": {},
   "outputs": [
    {
     "name": "stdout",
     "output_type": "stream",
     "text": [
      "F1 Score: 0.78\n",
      "Accuracy: 0.80\n",
      "Precision: 0.77\n",
      "Recall: 0.80\n"
     ]
    }
   ],
   "source": [
    "# Calculate metrics\n",
    "f1 = f1_score(y_test, y_pred, average='weighted')\n",
    "accuracy = accuracy_score(y_test, y_pred)\n",
    "precision = precision_score(y_test, y_pred, average='weighted')\n",
    "recall = recall_score(y_test, y_pred, average='weighted')\n",
    "\n",
    "# Print formatted output\n",
    "print(f\"F1 Score: {f1:.2f}\\nAccuracy: {accuracy:.2f}\\nPrecision: {precision:.2f}\\nRecall: {recall:.2f}\")"
   ]
  },
  {
   "cell_type": "markdown",
   "metadata": {},
   "source": [
    "Despliega una comparación de las predicciones con los valores reales."
   ]
  },
  {
   "cell_type": "code",
   "execution_count": 30,
   "metadata": {},
   "outputs": [
    {
     "data": {
      "text/html": [
       "<div>\n",
       "<style scoped>\n",
       "    .dataframe tbody tr th:only-of-type {\n",
       "        vertical-align: middle;\n",
       "    }\n",
       "\n",
       "    .dataframe tbody tr th {\n",
       "        vertical-align: top;\n",
       "    }\n",
       "\n",
       "    .dataframe thead th {\n",
       "        text-align: right;\n",
       "    }\n",
       "</style>\n",
       "<table border=\"1\" class=\"dataframe\">\n",
       "  <thead>\n",
       "    <tr style=\"text-align: right;\">\n",
       "      <th></th>\n",
       "      <th>Actual</th>\n",
       "      <th>Predicted</th>\n",
       "    </tr>\n",
       "  </thead>\n",
       "  <tbody>\n",
       "    <tr>\n",
       "      <th>0</th>\n",
       "      <td>0 - 20000</td>\n",
       "      <td>0 - 20000</td>\n",
       "    </tr>\n",
       "    <tr>\n",
       "      <th>1</th>\n",
       "      <td>0 - 0</td>\n",
       "      <td>0 - 20000</td>\n",
       "    </tr>\n",
       "    <tr>\n",
       "      <th>2</th>\n",
       "      <td>0 - 20000</td>\n",
       "      <td>0 - 20000</td>\n",
       "    </tr>\n",
       "    <tr>\n",
       "      <th>3</th>\n",
       "      <td>0 - 20000</td>\n",
       "      <td>0 - 20000</td>\n",
       "    </tr>\n",
       "    <tr>\n",
       "      <th>4</th>\n",
       "      <td>0 - 20000</td>\n",
       "      <td>0 - 20000</td>\n",
       "    </tr>\n",
       "    <tr>\n",
       "      <th>...</th>\n",
       "      <td>...</td>\n",
       "      <td>...</td>\n",
       "    </tr>\n",
       "    <tr>\n",
       "      <th>15712</th>\n",
       "      <td>0 - 20000</td>\n",
       "      <td>0 - 20000</td>\n",
       "    </tr>\n",
       "    <tr>\n",
       "      <th>15713</th>\n",
       "      <td>0 - 20000</td>\n",
       "      <td>0 - 20000</td>\n",
       "    </tr>\n",
       "    <tr>\n",
       "      <th>15714</th>\n",
       "      <td>0 - 20000</td>\n",
       "      <td>0 - 20000</td>\n",
       "    </tr>\n",
       "    <tr>\n",
       "      <th>15715</th>\n",
       "      <td>0 - 20000</td>\n",
       "      <td>0 - 20000</td>\n",
       "    </tr>\n",
       "    <tr>\n",
       "      <th>15716</th>\n",
       "      <td>0 - 0</td>\n",
       "      <td>0 - 0</td>\n",
       "    </tr>\n",
       "  </tbody>\n",
       "</table>\n",
       "<p>15717 rows × 2 columns</p>\n",
       "</div>"
      ],
      "text/plain": [
       "          Actual  Predicted\n",
       "0      0 - 20000  0 - 20000\n",
       "1          0 - 0  0 - 20000\n",
       "2      0 - 20000  0 - 20000\n",
       "3      0 - 20000  0 - 20000\n",
       "4      0 - 20000  0 - 20000\n",
       "...          ...        ...\n",
       "15712  0 - 20000  0 - 20000\n",
       "15713  0 - 20000  0 - 20000\n",
       "15714  0 - 20000  0 - 20000\n",
       "15715  0 - 20000  0 - 20000\n",
       "15716      0 - 0      0 - 0\n",
       "\n",
       "[15717 rows x 2 columns]"
      ]
     },
     "metadata": {},
     "output_type": "display_data"
    }
   ],
   "source": [
    "predDf = pd.DataFrame({'Actual': le.inverse_transform(y_test), 'Predicted': le.inverse_transform(y_pred)})\n",
    "display(predDf)"
   ]
  },
  {
   "cell_type": "code",
   "execution_count": null,
   "metadata": {},
   "outputs": [],
   "source": [
    "# Calcular la matriz de correlación\n",
    "correlation_matrix = games_df.corr()\n",
    "\n",
    "# Crear un mapa de calor\n",
    "plt.figure(figsize=(12, 10))\n",
    "sns.heatmap(correlation_matrix, annot=True, cmap=\"coolwarm\", fmt=\".2f\", linewidths=.5)\n",
    "plt.title('Matriz de Correlación')\n",
    "plt.show()"
   ]
  },
  {
   "cell_type": "code",
   "execution_count": null,
   "metadata": {},
   "outputs": [],
   "source": [
    "# Inicializar el LabelEncoder\n",
    "le = LabelEncoder()\n",
    "\n",
    "# Ajustar y transformar la columna 'estimated_owners' con LabelEncoder\n",
    "games_df['Estimated owners'] = le.fit_transform(games_df['Estimated owners'])\n",
    "# Calcular la correlación de 'Estimated owners' con otras variables\n",
    "correlation_with_owners = games_df.corr()['Estimated owners'].sort_values(ascending=False)\n",
    "\n",
    "# Crear un gráfico de barras\n",
    "plt.figure(figsize=(10, 6))\n",
    "correlation_with_owners.drop('Estimated owners').plot(kind='bar', color='skyblue')\n",
    "plt.title('Correlación de Estimated Owners con Otras Variables')\n",
    "plt.xlabel('Variable')\n",
    "plt.ylabel('Correlación')\n",
    "plt.show()"
   ]
  }
 ],
 "metadata": {
  "kernelspec": {
   "display_name": "base",
   "language": "python",
   "name": "python3"
  },
  "language_info": {
   "codemirror_mode": {
    "name": "ipython",
    "version": 3
   },
   "file_extension": ".py",
   "mimetype": "text/x-python",
   "name": "python",
   "nbconvert_exporter": "python",
   "pygments_lexer": "ipython3",
   "version": "3.11.5"
  }
 },
 "nbformat": 4,
 "nbformat_minor": 2
}
