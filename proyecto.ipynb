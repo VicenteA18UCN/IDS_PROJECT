{
 "cells": [
  {
   "cell_type": "markdown",
   "metadata": {},
   "source": [
    "# Proyecto IDS\n",
    "## Integrantes:\n",
    "- Vicente Alarcón\n",
    "- Matías Fontecilla"
   ]
  },
  {
   "cell_type": "code",
   "execution_count": 228,
   "metadata": {},
   "outputs": [],
   "source": [
    "import numpy as np\n",
    "import pandas as pd\n",
    "import matplotlib.pyplot as plt\n",
    "import matplotlib.ticker as ticker\n",
    "from sklearn.model_selection import train_test_split\n",
    "from sklearn.linear_model import LinearRegression\n",
    "from sklearn.linear_model import Ridge, Lasso, ElasticNet\n",
    "from sklearn.tree import DecisionTreeRegressor\n",
    "from sklearn.ensemble import RandomForestRegressor, GradientBoostingRegressor\n",
    "from sklearn.neural_network import MLPRegressor\n",
    "from sklearn.metrics import mean_squared_error, r2_score\n",
    "from sklearn.model_selection import GridSearchCV\n",
    "from sklearn.preprocessing import StandardScaler\n",
    "from sklearn.pipeline import make_pipeline\n",
    "from sklearn.model_selection import cross_val_score"
   ]
  },
  {
   "cell_type": "code",
   "execution_count": 196,
   "metadata": {},
   "outputs": [
    {
     "name": "stdout",
     "output_type": "stream",
     "text": [
      "1006\n"
     ]
    }
   ],
   "source": [
    "path_file = 'games.csv'\n",
    "columns = ['AppID', 'Name', 'Release date', 'Estimated owners', 'Price', 'Metacritic score', 'Positive', 'Negative', 'Categories', 'Genres', 'Developers', 'Publishers', 'Median playtime forever', 'Average playtime forever', 'Recommendations', 'User score', 'Supported languages']\n",
    "df = pd.read_csv(path_file, usecols=columns)\n",
    "df = df[df['Metacritic score'] > 0]\n",
    "\n",
    "df['Steam score'] = ((df['Positive'] / (df['Positive'] + df['Negative'])) * 100).round()\n",
    "df['Steam score'] = df['Steam score'].replace([np.inf, -np.inf], np.nan).fillna(0).astype(int)\n",
    "\n",
    "\n",
    "df['Estimated owners'] = df['Estimated owners'].apply(lambda x: (int(x.split('-')[0]) + int(x.split('-')[1])) / 2)\n",
    "\n",
    "\n",
    "df['Estimated earnings'] = df['Estimated owners'] * df['Price']\n",
    "\n",
    "df = df.loc[df['Positive'] + df['Negative'] > 1000]\n",
    "\n",
    "numeric_columns = ['Estimated owners', 'Price', 'Metacritic score', 'Positive', 'Negative', 'Median playtime forever', 'Average playtime forever', 'Recommendations', 'User score']\n",
    "for col in numeric_columns:\n",
    "    Q1 = df[col].quantile(0.25)\n",
    "    Q3 = df[col].quantile(0.75)\n",
    "    IQR = Q3 - Q1\n",
    "    filter = (df[col] >= Q1 - 1.5 * IQR) & (df[col] <= Q3 + 1.5 * IQR)\n",
    "    df = df.loc[filter] \n",
    "\n",
    "\n",
    "Q1 = df['Median playtime forever'].quantile(0.25)\n",
    "Q3 = df['Median playtime forever'].quantile(0.75)\n",
    "IQR = Q3 - Q1\n",
    "filter = (df['Median playtime forever'] >= Q1 - 1.5 * IQR) & (df['Median playtime forever'] <= Q3 + 1.5 *IQR)\n",
    "df = df.loc[filter]\n",
    "    \n",
    "print(df.shape[0])\n",
    "df = df.sort_values(by=['Steam score', 'Metacritic score'], ascending=False)\n",
    "df.to_csv('filtered_games.csv', index=False)"
   ]
  },
  {
   "cell_type": "code",
   "execution_count": 187,
   "metadata": {},
   "outputs": [
    {
     "data": {
      "image/png": "[encoded data removed]",
      "text/plain": [
       "<Figure size 800x600 with 1 Axes>"
      ]
     },
     "metadata": {},
     "output_type": "display_data"
    }
   ],
   "source": [
    "# Leer el archivo CSV\n",
    "df = pd.read_csv('filtered_games.csv')\n",
    "\n",
    "# Seleccionar las columnas relevantes\n",
    "df = df[['AppID', 'Name', 'Metacritic score', 'Steam score', 'Estimated earnings']]\n",
    "\n",
    "# Crear los intervalos\n",
    "bins = range(0, 101, 10)\n",
    "\n",
    "# Dividir los datos en intervalos\n",
    "df['Intervalo Metacritic'] = pd.cut(df['Metacritic score'], bins)\n",
    "\n",
    "# Dividir los datos en intervalos\n",
    "df['Intervalo Steam'] = pd.cut(df['Steam score'], bins)\n",
    "\n",
    "# Calcular el promedio para cada intervalo\n",
    "promedio_por_intervalo_metacritic = df.groupby('Intervalo Metacritic', observed=True)['Metacritic score'].mean()\n",
    "\n",
    "# Calcular el promedio para cada intervalo\n",
    "promedio_por_intervalo_steam = df.groupby('Intervalo Steam', observed=True)['Steam score'].mean()\n",
    "\n",
    "# Crear un DataFrame con los promedios por intervalo\n",
    "df_promedios = pd.DataFrame({\n",
    "    'Metacritic': promedio_por_intervalo_metacritic,\n",
    "    'Steam': promedio_por_intervalo_steam,\n",
    "})\n",
    "\n",
    "# Graficar los promedios en un solo gráfico de barras\n",
    "df_promedios.plot.bar(color=['blue', 'green'], figsize=(8, 6))\n",
    "plt.title('Promedio por intervalo para Metacritic, Steam')\n",
    "plt.xlabel('Intervalo')\n",
    "plt.ylabel('Promedio')\n",
    "plt.show()"
   ]
  },
  {
   "cell_type": "code",
   "execution_count": null,
   "metadata": {},
   "outputs": [],
   "source": [
    "# Leer el archivo CSV\n",
    "df = pd.read_csv('filtered_games.csv')\n",
    "\n",
    "# Seleccionar las columnas relevantes\n",
    "df = df[['AppID', 'Name', 'Metacritic score', 'Steam score', 'Estimated earnings']]\n",
    "\n",
    "# Crear los intervalos\n",
    "bins = range(0, 101, 10)\n",
    "\n",
    "# Dividir los datos en intervalos\n",
    "df['Intervalo Metacritic'] = pd.cut(df['Metacritic score'], bins)\n",
    "df['Intervalo Steam'] = pd.cut(df['Steam score'], bins)\n",
    "\n",
    "# Calcular el promedio de ganancias para cada intervalo de Metacritic\n",
    "promedio_ganancias_por_intervalo_metacritic = df.groupby('Intervalo Metacritic', observed=True)['Estimated earnings'].mean()\n",
    "\n",
    "# Calcular el promedio de ganancias para cada intervalo de Steam\n",
    "promedio_ganancias_por_intervalo_steam = df.groupby('Intervalo Steam', observed=True)['Estimated earnings'].mean()\n",
    "\n",
    "# Crear un DataFrame con los promedios de ganancias por intervalo\n",
    "df_promedios = pd.DataFrame({\n",
    "    'Metacritic': promedio_ganancias_por_intervalo_metacritic,\n",
    "    'Steam': promedio_ganancias_por_intervalo_steam,\n",
    "})\n",
    "\n",
    "# Graficar los promedios de ganancias en un solo gráfico de barras\n",
    "ax = df_promedios.plot.bar(color=['blue', 'green'], figsize=(8, 6))\n",
    "plt.title('Promedio de ganancias por intervalo de puntaje para Metacritic y Steam')\n",
    "plt.xlabel('Intervalo')\n",
    "plt.ylabel('Promedio de ganancias')\n",
    "\n",
    "# Formatear el eje Y para mostrar el número completo\n",
    "ax.yaxis.set_major_formatter(ticker.FuncFormatter(lambda x, p: format(int(x), ',')))\n",
    "\n",
    "# print(promedio_ganancias_por_intervalo_metacritic)\n",
    "# print(promedio_ganancias_por_intervalo_steam)\n",
    "\n",
    "plt.show()"
   ]
  },
  {
   "cell_type": "code",
   "execution_count": 203,
   "metadata": {},
   "outputs": [],
   "source": [
    "df = pd.read_csv('filtered_games.csv')\n",
    "\n",
    "df = df[['Metacritic score', 'Steam score', 'Estimated earnings','Positive','Negative'\n",
    ",'Categories', 'Developers'\n",
    "]]\n",
    "df = df.dropna()\n",
    "\n",
    "df = pd.get_dummies(df, columns=['Categories', 'Developers'])\n",
    "\n",
    "X = df.drop('Estimated earnings', axis=1)\n",
    "y = df['Estimated earnings']\n",
    "\n",
    "X_train, X_test, y_train, y_test = train_test_split(X, y, test_size=0.2, random_state=42)"
   ]
  },
  {
   "cell_type": "code",
   "execution_count": 238,
   "metadata": {},
   "outputs": [
    {
     "name": "stdout",
     "output_type": "stream",
     "text": [
      "---------------------------------------------------\n",
      "Ridge\n",
      "Scores de validación cruzada para Ridge: [ 0.33200961  0.47731136  0.23779084  0.07655361  0.39513015  0.24758379\n",
      "  0.27307265  0.27616922  0.25159874 -0.06884239]\n",
      "Promedio de scores para Ridge: 0.24983775805152977\n",
      "MSE para Ridge: 51408490695902.75\n",
      "R^2 para Ridge: 0.22541400041019688\n",
      "---------------------------------------------------\n",
      "ElasticNet\n",
      "Scores de validación cruzada para ElasticNet: [ 0.34602515  0.49112903  0.24063136  0.06560057  0.3989796   0.25700298\n",
      "  0.2890468   0.27298213  0.25962246 -0.06535407]\n",
      "Promedio de scores para ElasticNet: 0.2555666005793764\n",
      "MSE para ElasticNet: 51229181363091.99\n",
      "R^2 para ElasticNet: 0.22811570390140778\n",
      "---------------------------------------------------\n",
      "Decision Tree Regressor\n",
      "Scores de validación cruzada para Decision Tree Regressor: [-2.66317932  0.14778428  0.0796644  -0.02012702  0.02068688  0.32566376\n",
      "  0.0631693   0.22081687  0.06446631 -0.04348021]\n",
      "Promedio de scores para Decision Tree Regressor: -0.1804534759953476\n",
      "MSE para Decision Tree Regressor: 56611957613812.47\n",
      "R^2 para Decision Tree Regressor: 0.14701191994875284\n",
      "---------------------------------------------------\n",
      "Random Forest Regressor\n",
      "Scores de validación cruzada para Random Forest Regressor: [0.45955005 0.46339421 0.2156721  0.29184956 0.2664915  0.24871476\n",
      " 0.40518674 0.21763241 0.1926305  0.03009698]\n",
      "Promedio de scores para Random Forest Regressor: 0.27912188134422344\n",
      "MSE para Random Forest Regressor: 53948888872148.414\n",
      "R^2 para Random Forest Regressor: 0.18713711590986692\n"
     ]
    }
   ],
   "source": [
    "models = [\n",
    "    # ('Linear Regression', LinearRegression(fit_intercept=False)),\n",
    "    # ('Lasso', Lasso(alpha=10.0, fit_intercept=True, max_iter=10000)), #{'lasso__alpha': 10.0, 'lasso__fit_intercept': True, 'lasso__max_iter': 1000}\n",
    "    ('Ridge', Ridge(alpha=10.0, fit_intercept=True,max_iter=None)), #'alpha': 1.0, 'fit_intercept': True, 'max_iter': None}\n",
    "    ('ElasticNet', ElasticNet(alpha=0.1, fit_intercept=True, l1_ratio=0.9,max_iter=1000)), #{'alpha': 0.1, 'fit_intercept': True, 'l1_ratio': 0.9, 'max_iter': 1000}\n",
    "    ('Decision Tree Regressor', DecisionTreeRegressor(max_depth=10, max_features=None, max_leaf_nodes=None,min_samples_leaf=1,min_samples_split=2)), #{'max_depth': 10, 'max_features': None, 'max_leaf_nodes': -None, 'min_samples_leaf': 1, 'min_samples_split': 2}\n",
    "    ('Random Forest Regressor', RandomForestRegressor(bootstrap=False, max_depth=None, max_features='log2',min_samples_leaf=1,min_samples_split=10,n_estimators=50, random_state=42)), #{'bootstrap': False, 'max_depth': None, 'max_features': - 'log2', 'min_samples_leaf': 1, 'min_samples_split': 10, 'n_estimators': 50}\n",
    "    ('Gradient Boosting Regressor', GradientBoostingRegressor(learning_rate=0.1, max_depth=3, max_features='sqrt', min_samples_leaf=2, min_samples_split=10, n_estimators=200, subsample=0.5)), #{'learning_rate': 0.1, 'max_depth': 3, ' max_features': -'sqrt', 'min_samples_leaf': 2, 'min_samples_split': 10, 'n_estimators': 200, 'subsample': 0.5}\n",
    "]\n",
    "\n",
    "for name, model in models:\n",
    "    # Realizar la validación cruzada\n",
    "    scores = cross_val_score(model, X_train, y_train, cv=10)\n",
    "    # Ajustar el modelo a los datos de entrenamiento\n",
    "    model.fit(X_train, y_train)\n",
    "    # Hacer predicciones en los datos de prueba\n",
    "    predictions = model.predict(X_test)\n",
    "    # Calcular el MSE y el R^2\n",
    "    mse = mean_squared_error(y_test, predictions)\n",
    "    r2 = r2_score(y_test, predictions)\n",
    "    print(\"---------------------------------------------------\")\n",
    "    print(name)\n",
    "    print(f\"Scores de validación cruzada para {name}: {scores}\")\n",
    "    print(f\"Promedio de scores para {name}: {scores.mean()}\")\n",
    "    print(f\"MSE para {name}: {mse}\")\n",
    "    print(f\"R^2 para {name}: {r2}\")"
   ]
  },
  {
   "cell_type": "code",
   "execution_count": null,
   "metadata": {},
   "outputs": [],
   "source": [
    "# Definir los modelos y las cuadrículas de hiperparámetros\n",
    "lasso_pipeline = make_pipeline(\n",
    "    StandardScaler(),\n",
    "    Lasso(max_iter=5000)\n",
    ")\n",
    "\n",
    "models_and_params = {\n",
    "    'Linear Regression': (LinearRegression(), {'fit_intercept': [True, False]}),\n",
    "    'Ridge': (Ridge(), {'alpha': [0.1, 1.0, 10.0], 'fit_intercept': [True, False], 'max_iter': [None, 100, 1000]}),\n",
    "    'Lasso': (lasso_pipeline, {'lasso__alpha': [0.1, 1.0, 10.0], 'lasso__fit_intercept': [True, False], 'lasso__max_iter': [1000, 5000, 10000]}),\n",
    "    'ElasticNet': (ElasticNet(), {'alpha': [0.1, 1.0, 10.0], 'l1_ratio': [0.1, 0.5, 0.9], 'fit_intercept': [True, False], 'max_iter': [1000,5000,10000]}),\n",
    "    'Decision Tree Regressor': (DecisionTreeRegressor(), {'max_depth': [None, 5, 10, 15], 'min_samples_split': [2, 5, 10], 'min_samples_leaf': [1, 2, 4], 'max_features': [None, 'sqrt', 'log2'], 'max_leaf_nodes': [None, 10, 20, 30]}),\n",
    "    'Random Forest Regressor': (RandomForestRegressor(), {'n_estimators': [50, 100, 200], 'max_depth': [None, 5, 10, 15], 'min_samples_split': [2, 5, 10],'min_samples_leaf': [1, 2, 4], 'max_features': ['sqrt', 'log2'], 'bootstrap': [True, False]}),\n",
    "    'Gradient Boosting Regressor': (GradientBoostingRegressor(), {'n_estimators': [50, 100, 200], 'learning_rate': [0.01, 0.1, 1.0], 'max_depth': [3, 5, 10], 'subsample': [0.5, 1.0], 'min_samples_split': [2, 5, 10], 'min_samples_leaf': [1, 2, 4], 'max_features': [None, 'sqrt', 'log2']}),\n",
    "}\n",
    "\n",
    "# Para cada modelo, realizar la búsqueda en cuadrícula\n",
    "for model_name, (model, params) in models_and_params.items():\n",
    "    print(\"--------------------------------------------------\")\n",
    "    print(model_name)\n",
    "    grid_search = GridSearchCV(estimator=model, param_grid=params, cv=3, n_jobs=-1)\n",
    "    grid_search.fit(X_train, y_train)\n",
    "    print(f\"Mejores hiperparámetros para {model_name}: {grid_search.best_params_}\")\n",
    "    print(f\"Precisión del mejor modelo: {grid_search.best_score_}\")"
   ]
  }
 ],
 "metadata": {
  "kernelspec": {
   "display_name": "base",
   "language": "python",
   "name": "python3"
  },
  "language_info": {
   "codemirror_mode": {
    "name": "ipython",
    "version": 3
   },
   "file_extension": ".py",
   "mimetype": "text/x-python",
   "name": "python",
   "nbconvert_exporter": "python",
   "pygments_lexer": "ipython3",
   "version": "3.11.4"
  }
 },
 "nbformat": 4,
 "nbformat_minor": 2
}
