{
 "cells": [
  {
   "cell_type": "markdown",
   "metadata": {},
   "source": [
    "# Proyecto IDS\n",
    "## Integrantes:\n",
    "- Vicente Alarcón\n",
    "- Matías Fontecilla"
   ]
  },
  {
   "cell_type": "code",
   "execution_count": 9,
   "metadata": {},
   "outputs": [],
   "source": [
    "import numpy as np"
   ]
  },
  {
   "cell_type": "code",
   "execution_count": 10,
   "metadata": {},
   "outputs": [
    {
     "name": "stdout",
     "output_type": "stream",
     "text": [
      "      AppID                     Name  Release date  Estimated owners  Price  \\\n",
      "10  1026420                   WARSAW   Oct 2, 2019     20000 - 50000  23.99   \n",
      "15    22670   Alien Breed 3: Descent  Nov 17, 2010   200000 - 500000   9.99   \n",
      "42   231330      Deadfall Adventures  Nov 15, 2013   100000 - 200000  19.99   \n",
      "44   897820  Reigns: Game of Thrones  Oct 18, 2018    50000 - 100000   3.99   \n",
      "66    12140                Max Payne   Jan 6, 2011  500000 - 1000000   3.49   \n",
      "\n",
      "    Metacritic score  Positive  Negative  Positive Percentage  \\\n",
      "10                62       589       212            73.533084   \n",
      "15                64       349       134            72.256729   \n",
      "42                53      1716       628            73.208191   \n",
      "44                84       698       203            77.469478   \n",
      "66                89      9516      1114            89.520226   \n",
      "\n",
      "    Negative Percentage  \n",
      "10            26.466916  \n",
      "15            27.743271  \n",
      "42            26.791809  \n",
      "44            22.530522  \n",
      "66            10.479774  \n"
     ]
    }
   ],
   "source": [
    "path_file = 'games.csv'\n",
    "columns = ['AppID', 'Name', 'Release date', 'Estimated owners', 'Price', 'Metacritic score', 'Positive', 'Negative']\n",
    "df = pd.read_csv(path_file, usecols=columns)\n",
    "df = df[df['Metacritic score'] > 0]\n",
    "df['Positive Percentage'] = (df['Positive'] / (df['Positive'] + df['Negative'])) * 100\n",
    "df['Negative Percentage'] = (df['Negative'] / (df['Positive'] + df['Negative'])) * 100\n",
    "\n",
    "\n",
    "print(df.head())"
   ]
  }
 ],
 "metadata": {
  "kernelspec": {
   "display_name": "base",
   "language": "python",
   "name": "python3"
  },
  "language_info": {
   "codemirror_mode": {
    "name": "ipython",
    "version": 3
   },
   "file_extension": ".py",
   "mimetype": "text/x-python",
   "name": "python",
   "nbconvert_exporter": "python",
   "pygments_lexer": "ipython3",
   "version": "3.11.4"
  }
 },
 "nbformat": 4,
 "nbformat_minor": 2
}
